{
 "cells": [
  {
   "attachments": {},
   "cell_type": "markdown",
   "metadata": {},
   "source": [
    "# Load Data"
   ]
  },
  {
   "cell_type": "code",
   "execution_count": 115,
   "metadata": {},
   "outputs": [
    {
     "data": {
      "text/plain": [
       "['The future king is the prince\\n',\n",
       " 'Daughter is the princess\\n',\n",
       " 'Son is the prince\\n',\n",
       " 'Only a man can be a king\\n',\n",
       " 'Only a woman can be a queen\\n',\n",
       " 'The princess will be a queen\\n',\n",
       " 'The prince is a strong man\\n',\n",
       " 'The princess is a beautiful woman\\n',\n",
       " 'Prince is only a boy now\\n',\n",
       " 'Prince will be king\\n',\n",
       " 'A boy will be a man']"
      ]
     },
     "execution_count": 115,
     "metadata": {},
     "output_type": "execute_result"
    }
   ],
   "source": [
    "file = open('royal_data.txt','r')\n",
    "royal_data = file.readlines()\n",
    "royal_data"
   ]
  },
  {
   "attachments": {},
   "cell_type": "markdown",
   "metadata": {},
   "source": [
    "# Prepreoces"
   ]
  },
  {
   "attachments": {},
   "cell_type": "markdown",
   "metadata": {},
   "source": [
    "### Lowercase and remove special characters"
   ]
  },
  {
   "cell_type": "code",
   "execution_count": 116,
   "metadata": {},
   "outputs": [],
   "source": [
    "for index,sentence in enumerate(royal_data):\n",
    "    royal_data[index] = sentence.lower().replace('\\n','')"
   ]
  },
  {
   "cell_type": "code",
   "execution_count": 117,
   "metadata": {},
   "outputs": [
    {
     "data": {
      "text/plain": [
       "['the future king is the prince',\n",
       " 'daughter is the princess',\n",
       " 'son is the prince',\n",
       " 'only a man can be a king',\n",
       " 'only a woman can be a queen',\n",
       " 'the princess will be a queen',\n",
       " 'the prince is a strong man',\n",
       " 'the princess is a beautiful woman',\n",
       " 'prince is only a boy now',\n",
       " 'prince will be king',\n",
       " 'a boy will be a man']"
      ]
     },
     "execution_count": 117,
     "metadata": {},
     "output_type": "execute_result"
    }
   ],
   "source": [
    "royal_data"
   ]
  },
  {
   "attachments": {},
   "cell_type": "markdown",
   "metadata": {},
   "source": [
    "### Remove StopWords and Tokenize"
   ]
  },
  {
   "cell_type": "code",
   "execution_count": 118,
   "metadata": {},
   "outputs": [],
   "source": [
    "from nltk.corpus import stopwords\n",
    "from nltk.tokenize import word_tokenize\n",
    "stopwords = stopwords.words('english')"
   ]
  },
  {
   "cell_type": "code",
   "execution_count": 119,
   "metadata": {},
   "outputs": [],
   "source": [
    "filtered_royal_data = [[word for word in word_tokenize(sentence) if word not in stopwords] for sentence in royal_data ]"
   ]
  },
  {
   "cell_type": "code",
   "execution_count": 120,
   "metadata": {},
   "outputs": [
    {
     "data": {
      "text/plain": [
       "[['future', 'king', 'prince'],\n",
       " ['daughter', 'princess'],\n",
       " ['son', 'prince'],\n",
       " ['man', 'king'],\n",
       " ['woman', 'queen'],\n",
       " ['princess', 'queen'],\n",
       " ['prince', 'strong', 'man'],\n",
       " ['princess', 'beautiful', 'woman'],\n",
       " ['prince', 'boy'],\n",
       " ['prince', 'king'],\n",
       " ['boy', 'man']]"
      ]
     },
     "execution_count": 120,
     "metadata": {},
     "output_type": "execute_result"
    }
   ],
   "source": [
    "filtered_royal_data"
   ]
  },
  {
   "attachments": {},
   "cell_type": "markdown",
   "metadata": {},
   "source": [
    "# Creating Bigrams"
   ]
  },
  {
   "cell_type": "code",
   "execution_count": 121,
   "metadata": {},
   "outputs": [],
   "source": [
    "bigrams = []\n",
    "\n",
    "### Permutations\n",
    "\n",
    "# for words_list in filtered_royal_data:\n",
    "#     for i in range(len(words_list) - 1):\n",
    "#         for j in range(i+1, len(words_list)):\n",
    "#             bigrams.append([words_list[i],words_list[j]])\n",
    "#             bigrams.append([words_list[j],words_list[i]])\n",
    "            \n",
    "### Using List Comprehension\n",
    "        \n",
    "bigrams = [ [words_list[i],words_list[j]] for words_list in filtered_royal_data for i in range(len(words_list[:-1])) for j in range(i+1,len(words_list)) ] +  [ [words_list[j],words_list[i]] for words_list in filtered_royal_data for i in range(len(words_list[:-1])) for j in range(i+1,len(words_list)) ]\n",
    "\n"
   ]
  },
  {
   "cell_type": "code",
   "execution_count": 122,
   "metadata": {},
   "outputs": [
    {
     "name": "stdout",
     "output_type": "stream",
     "text": [
      "[['future', 'king'], ['future', 'prince'], ['king', 'prince'], ['daughter', 'princess'], ['son', 'prince'], ['man', 'king'], ['woman', 'queen'], ['princess', 'queen'], ['prince', 'strong'], ['prince', 'man'], ['strong', 'man'], ['princess', 'beautiful'], ['princess', 'woman'], ['beautiful', 'woman'], ['prince', 'boy'], ['prince', 'king'], ['boy', 'man'], ['king', 'future'], ['prince', 'future'], ['prince', 'king'], ['princess', 'daughter'], ['prince', 'son'], ['king', 'man'], ['queen', 'woman'], ['queen', 'princess'], ['strong', 'prince'], ['man', 'prince'], ['man', 'strong'], ['beautiful', 'princess'], ['woman', 'princess'], ['woman', 'beautiful'], ['boy', 'prince'], ['king', 'prince'], ['man', 'boy']]\n"
     ]
    }
   ],
   "source": [
    "print(bigrams)"
   ]
  },
  {
   "attachments": {},
   "cell_type": "markdown",
   "metadata": {},
   "source": [
    "# Vocabulary"
   ]
  },
  {
   "cell_type": "code",
   "execution_count": 123,
   "metadata": {},
   "outputs": [],
   "source": [
    "all_words = []\n",
    "all_words = [words for sublist in filtered_royal_data for words in sublist]\n",
    "all_words = list(set(all_words))\n",
    "all_words = sorted(all_words)"
   ]
  },
  {
   "cell_type": "code",
   "execution_count": 124,
   "metadata": {},
   "outputs": [
    {
     "data": {
      "text/plain": [
       "['beautiful',\n",
       " 'boy',\n",
       " 'daughter',\n",
       " 'future',\n",
       " 'king',\n",
       " 'man',\n",
       " 'prince',\n",
       " 'princess',\n",
       " 'queen',\n",
       " 'son',\n",
       " 'strong',\n",
       " 'woman']"
      ]
     },
     "execution_count": 124,
     "metadata": {},
     "output_type": "execute_result"
    }
   ],
   "source": [
    "all_words"
   ]
  },
  {
   "attachments": {},
   "cell_type": "markdown",
   "metadata": {},
   "source": [
    "# One Hot Encoding"
   ]
  },
  {
   "cell_type": "code",
   "execution_count": 125,
   "metadata": {},
   "outputs": [
    {
     "data": {
      "text/plain": [
       "{'beautiful': 0,\n",
       " 'boy': 1,\n",
       " 'daughter': 2,\n",
       " 'future': 3,\n",
       " 'king': 4,\n",
       " 'man': 5,\n",
       " 'prince': 6,\n",
       " 'princess': 7,\n",
       " 'queen': 8,\n",
       " 'son': 9,\n",
       " 'strong': 10,\n",
       " 'woman': 11}"
      ]
     },
     "execution_count": 125,
     "metadata": {},
     "output_type": "execute_result"
    }
   ],
   "source": [
    "word_dict = {}\n",
    "\n",
    "word_dict = {word : counter for counter,word in enumerate(all_words)}\n",
    "word_dict"
   ]
  },
  {
   "cell_type": "code",
   "execution_count": 126,
   "metadata": {},
   "outputs": [],
   "source": [
    "import numpy as np\n",
    "\n",
    "length = len(all_words)\n",
    "onehot_data = np.zeros((length,length))\n",
    "\n",
    "for i in range(len(all_words)):\n",
    "    onehot_data[i][i] = 1\n",
    "\n",
    "onehot_dict = { all_words[i] : onehot_data[i] for i in range(length) }"
   ]
  },
  {
   "cell_type": "code",
   "execution_count": 127,
   "metadata": {},
   "outputs": [
    {
     "data": {
      "text/plain": [
       "{'beautiful': array([1., 0., 0., 0., 0., 0., 0., 0., 0., 0., 0., 0.]),\n",
       " 'boy': array([0., 1., 0., 0., 0., 0., 0., 0., 0., 0., 0., 0.]),\n",
       " 'daughter': array([0., 0., 1., 0., 0., 0., 0., 0., 0., 0., 0., 0.]),\n",
       " 'future': array([0., 0., 0., 1., 0., 0., 0., 0., 0., 0., 0., 0.]),\n",
       " 'king': array([0., 0., 0., 0., 1., 0., 0., 0., 0., 0., 0., 0.]),\n",
       " 'man': array([0., 0., 0., 0., 0., 1., 0., 0., 0., 0., 0., 0.]),\n",
       " 'prince': array([0., 0., 0., 0., 0., 0., 1., 0., 0., 0., 0., 0.]),\n",
       " 'princess': array([0., 0., 0., 0., 0., 0., 0., 1., 0., 0., 0., 0.]),\n",
       " 'queen': array([0., 0., 0., 0., 0., 0., 0., 0., 1., 0., 0., 0.]),\n",
       " 'son': array([0., 0., 0., 0., 0., 0., 0., 0., 0., 1., 0., 0.]),\n",
       " 'strong': array([0., 0., 0., 0., 0., 0., 0., 0., 0., 0., 1., 0.]),\n",
       " 'woman': array([0., 0., 0., 0., 0., 0., 0., 0., 0., 0., 0., 1.])}"
      ]
     },
     "execution_count": 127,
     "metadata": {},
     "output_type": "execute_result"
    }
   ],
   "source": [
    "onehot_dict"
   ]
  },
  {
   "attachments": {},
   "cell_type": "markdown",
   "metadata": {},
   "source": [
    "# Input and Output"
   ]
  },
  {
   "cell_type": "code",
   "execution_count": 128,
   "metadata": {},
   "outputs": [],
   "source": [
    "X = []\n",
    "Y = []\n",
    "\n",
    "X += [onehot_dict[bigram[0]] for bigram in bigrams]\n",
    "Y += [onehot_dict[bigram[1]] for bigram in bigrams]\n",
    "\n",
    "X = np.array(X)\n",
    "Y = np.array(Y)"
   ]
  },
  {
   "attachments": {},
   "cell_type": "markdown",
   "metadata": {},
   "source": [
    "# Model"
   ]
  },
  {
   "cell_type": "code",
   "execution_count": 129,
   "metadata": {},
   "outputs": [],
   "source": [
    "from keras.models import Sequential\n",
    "from keras.layers import Dense,Input"
   ]
  },
  {
   "cell_type": "code",
   "execution_count": 130,
   "metadata": {},
   "outputs": [],
   "source": [
    "model = Sequential()\n",
    "\n",
    "vocal_size = len(onehot_data[0])\n",
    "embed_size = 2\n",
    "\n",
    "model.add(Input(shape = (length,)))\n",
    "model.add(Dense(2,activation = 'linear'))\n",
    "model.add(Dense(length, activation = 'softmax'))\n"
   ]
  },
  {
   "cell_type": "code",
   "execution_count": 131,
   "metadata": {},
   "outputs": [],
   "source": [
    "model.compile(loss = 'categorical_crossentropy', optimizer = 'adam')"
   ]
  },
  {
   "cell_type": "code",
   "execution_count": 132,
   "metadata": {},
   "outputs": [
    {
     "data": {
      "text/plain": [
       "<keras.callbacks.History at 0x18ac95fea90>"
      ]
     },
     "execution_count": 132,
     "metadata": {},
     "output_type": "execute_result"
    }
   ],
   "source": [
    "model.fit(X,Y,epochs = 1000,verbose=0)"
   ]
  },
  {
   "cell_type": "markdown",
   "metadata": {},
   "source": [
    "# Get Weights"
   ]
  },
  {
   "cell_type": "code",
   "execution_count": 133,
   "metadata": {},
   "outputs": [],
   "source": [
    "weights = model.get_weights()[0]"
   ]
  },
  {
   "cell_type": "code",
   "execution_count": 134,
   "metadata": {},
   "outputs": [
    {
     "data": {
      "text/plain": [
       "array([[ 0.86387277,  0.08497349],\n",
       "       [-0.8391545 , -1.0203488 ],\n",
       "       [ 0.3922983 , -1.1898786 ],\n",
       "       [-0.3551519 ,  0.39879328],\n",
       "       [-0.8777074 , -1.2895781 ],\n",
       "       [-0.70259494, -0.16552947],\n",
       "       [-1.3971928 ,  0.5585323 ],\n",
       "       [ 0.7832187 ,  1.5515822 ],\n",
       "       [ 0.9580316 ,  0.54687136],\n",
       "       [ 0.11496738, -0.37257338],\n",
       "       [-0.32929674, -0.30732125],\n",
       "       [ 0.7632942 ,  0.06440996]], dtype=float32)"
      ]
     },
     "execution_count": 134,
     "metadata": {},
     "output_type": "execute_result"
    }
   ],
   "source": [
    "weights"
   ]
  },
  {
   "cell_type": "code",
   "execution_count": 135,
   "metadata": {},
   "outputs": [
    {
     "name": "stdout",
     "output_type": "stream",
     "text": [
      "{'beautiful': array([0.86387277, 0.08497349], dtype=float32), 'boy': array([-0.8391545, -1.0203488], dtype=float32), 'daughter': array([ 0.3922983, -1.1898786], dtype=float32), 'future': array([-0.3551519 ,  0.39879328], dtype=float32), 'king': array([-0.8777074, -1.2895781], dtype=float32), 'man': array([-0.70259494, -0.16552947], dtype=float32), 'prince': array([-1.3971928,  0.5585323], dtype=float32), 'princess': array([0.7832187, 1.5515822], dtype=float32), 'queen': array([0.9580316 , 0.54687136], dtype=float32), 'son': array([ 0.11496738, -0.37257338], dtype=float32), 'strong': array([-0.32929674, -0.30732125], dtype=float32), 'woman': array([0.7632942 , 0.06440996], dtype=float32)}\n"
     ]
    }
   ],
   "source": [
    "word_embeddings = {}\n",
    "\n",
    "word_embeddings = {all_words[i] : weights[i] for i in range(12)}\n",
    "\n",
    "print(word_embeddings)"
   ]
  },
  {
   "cell_type": "markdown",
   "metadata": {},
   "source": [
    "# Plot"
   ]
  },
  {
   "cell_type": "code",
   "execution_count": 136,
   "metadata": {},
   "outputs": [
    {
     "data": {
      "image/png": "[encoded data removed]",
      "text/plain": [
       "<Figure size 640x480 with 1 Axes>"
      ]
     },
     "metadata": {},
     "output_type": "display_data"
    }
   ],
   "source": [
    "import matplotlib.pyplot as plt\n",
    "\n",
    "for word in all_words:\n",
    "    coordinates = word_embeddings[word]\n",
    "    plt.scatter(coordinates[0],coordinates[1])\n",
    "    plt.annotate(word,(coordinates[0],coordinates[1]))"
   ]
  },
  {
   "cell_type": "code",
   "execution_count": null,
   "metadata": {},
   "outputs": [],
   "source": []
  }
 ],
 "metadata": {
  "kernelspec": {
   "display_name": "galli_maps",
   "language": "python",
   "name": "python3"
  },
  "language_info": {
   "codemirror_mode": {
    "name": "ipython",
    "version": 3
   },
   "file_extension": ".py",
   "mimetype": "text/x-python",
   "name": "python",
   "nbconvert_exporter": "python",
   "pygments_lexer": "ipython3",
   "version": "3.11.3"
  },
  "orig_nbformat": 4
 },
 "nbformat": 4,
 "nbformat_minor": 2
}
