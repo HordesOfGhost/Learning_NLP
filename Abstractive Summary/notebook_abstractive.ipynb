{
 "cells": [
  {
   "cell_type": "code",
   "execution_count": 9,
   "metadata": {},
   "outputs": [],
   "source": [
    "import datasets\n",
    "import pandas as pd\n",
    "import numpy as np\n",
    "\n",
    "import matplotlib.pyplot as plt\n",
    "import seaborn as sns\n",
    "\n",
    "import re\n",
    "import nltk\n",
    "import contractions\n",
    "\n",
    "import gensim\n",
    "\n",
    "import rogue\n",
    "import difflib\n",
    "\n",
    "from tensorflow.keras import callbacks,models,layers,preprocessing as kprocessing\n",
    "\n",
    "import transformers"
   ]
  },
  {
   "cell_type": "markdown",
   "metadata": {},
   "source": [
    "### Load datasets"
   ]
  },
  {
   "cell_type": "code",
   "execution_count": 10,
   "metadata": {},
   "outputs": [
    {
     "name": "stderr",
     "output_type": "stream",
     "text": [
      "Found cached dataset cnn_dailymail (C:/Users/Ghost/.cache/huggingface/datasets/cnn_dailymail/3.0.0/3.0.0/1b3c71476f6d152c31c1730e83ccb08bcf23e348233f4fcc11e182248e6bf7de)\n",
      "100%|██████████| 3/3 [00:00<00:00, 15.46it/s]\n"
     ]
    }
   ],
   "source": [
    "dataset = datasets.load_dataset(\"cnn_dailymail\",'3.0.0')\n",
    "lst_dics = [dic for dic in dataset[\"train\"]]\n",
    "\n",
    "dtf = pd.DataFrame(lst_dics).rename(columns= {\"article\":\"text\",\"highlights\":\"y\"})[[\"text\",\"y\"]].head(20000)"
   ]
  },
  {
   "cell_type": "code",
   "execution_count": null,
   "metadata": {},
   "outputs": [],
   "source": [
    "i = 1\n",
    "for i in range(10):\n",
    "    print(\"---Full Text---\")\n",
    "    print(dtf[\"text\"][i])\n",
    "    print(\"---Summary---\")\n",
    "    print(dtf[\"y\"][i])"
   ]
  },
  {
   "cell_type": "code",
   "execution_count": null,
   "metadata": {},
   "outputs": [],
   "source": []
  }
 ],
 "metadata": {
  "kernelspec": {
   "display_name": "news",
   "language": "python",
   "name": "python3"
  },
  "language_info": {
   "codemirror_mode": {
    "name": "ipython",
    "version": 3
   },
   "file_extension": ".py",
   "mimetype": "text/x-python",
   "name": "python",
   "nbconvert_exporter": "python",
   "pygments_lexer": "ipython3",
   "version": "3.8.15"
  },
  "orig_nbformat": 4,
  "vscode": {
   "interpreter": {
    "hash": "54d7853ee6fa0f00287d6366039c823ef0d7deed99bd833d3ec41cd5f7adce9b"
   }
  }
 },
 "nbformat": 4,
 "nbformat_minor": 2
}
